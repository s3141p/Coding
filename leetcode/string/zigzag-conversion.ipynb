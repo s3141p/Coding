{
 "cells": [
  {
   "cell_type": "markdown",
   "metadata": {
    "collapsed": true,
    "pycharm": {
     "name": "#%% md\n"
    }
   },
   "source": [
    "The string \"PAYPALISHIRING\" is written in a zigzag pattern \n",
    "on a given number of rows like this: \n",
    "(you may want to display this pattern in a fixed font for better legibility)\n",
    "\n",
    "`rows 3`\n",
    "\n",
    "```\n",
    "P   A   H   N\n",
    "A P L S I I G\n",
    "Y   I   R\n",
    "```\n",
    "\n",
    "`rows 4`\n",
    "\n",
    "```\n",
    "P     I    N\n",
    "A   L S  I G\n",
    "Y A   H R\n",
    "P     I\n",
    "```\n",
    "\n",
    "`rows 5`\n",
    "\n",
    "```\n",
    "P      H   \n",
    "A    S R   \n",
    "Y  I   I\n",
    "P L    I G\n",
    "A      N\n",
    "```"
   ]
  },
  {
   "cell_type": "markdown",
   "source": [
    "\n",
    "\n",
    "\n",
    "\n"
   ],
   "metadata": {
    "collapsed": false,
    "pycharm": {
     "name": "#%% md\n"
    }
   }
  },
  {
   "cell_type": "markdown",
   "source": [
    "Idea to split string into such slices.\n",
    "Each slice will have maximum to items per level.\n",
    "We need to iterate over slices and level by level\n",
    "grab values.\n",
    "\n",
    "rows = 5\n",
    "\n",
    "slice1\n",
    "```\n",
    "P        \n",
    "A    S  \n",
    "Y  I  \n",
    "P L    \n",
    "A      \n",
    "```\n",
    "\n",
    "slice2\n",
    "```\n",
    "H\n",
    "I\n",
    "R\n",
    "I G\n",
    "N\n",
    "```\n",
    "__________\n",
    "```\n",
    "level = 5\n",
    "nextPossibleIndex = 5 * 2 - 2 = 8\n",
    "\n",
    "P from slice1\n",
    "H from slice2\n",
    "\n",
    "levelResult = PH\n",
    "```\n",
    "\n",
    "```\n",
    "level = 4\n",
    "nextPossibleIndex = 4 * 2 - 2 = 6\n",
    "\n",
    "AS from slice1\n",
    "I from slice2\n",
    "\n",
    "levelResult = ASI\n",
    "```\n",
    "```\n",
    "level = 3\n",
    "nextPossibleIndex = 3 * 2 - 2 = 4\n",
    "\n",
    "YI from slice1\n",
    "R from slice2\n",
    "\n",
    "levelResult = YIR\n",
    "```\n",
    "..."
   ],
   "metadata": {
    "collapsed": false
   }
  }
 ],
 "metadata": {
  "kernelspec": {
   "display_name": "Python 3",
   "language": "python",
   "name": "python3"
  },
  "language_info": {
   "codemirror_mode": {
    "name": "ipython",
    "version": 2
   },
   "file_extension": ".py",
   "mimetype": "text/x-python",
   "name": "python",
   "nbconvert_exporter": "python",
   "pygments_lexer": "ipython2",
   "version": "2.7.6"
  },
  "pycharm": {
   "stem_cell": {
    "cell_type": "raw",
    "source": [],
    "metadata": {
     "collapsed": false
    }
   }
  }
 },
 "nbformat": 4,
 "nbformat_minor": 0
}